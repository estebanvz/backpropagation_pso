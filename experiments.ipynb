{
 "cells": [
  {
   "cell_type": "code",
   "execution_count": 2,
   "metadata": {},
   "outputs": [],
   "source": [
    "import time\n",
    "\n",
    "import numpy as np\n",
    "from IPython.display import Image\n",
    "from keras.callbacks import TensorBoard\n",
    "from keras.layers import Dense\n",
    "from keras.models import Sequential\n",
    "from pyswarms.single.global_best import GlobalBestPSO\n",
    "from pyswarms.utils.functions import single_obj as fx\n",
    "from pyswarms.utils.plotters import plot_surface\n",
    "from pyswarms.utils.plotters.formatters import Animator, Designer, Mesher\n",
    "from sklearn.datasets import load_iris\n",
    "from sklearn.model_selection import train_test_split\n",
    "from sklearn.preprocessing import OneHotEncoder, StandardScaler\n",
    "import warnings\n",
    "warnings.filterwarnings(\"ignore\")"
   ]
  },
  {
   "cell_type": "code",
   "execution_count": 4,
   "metadata": {},
   "outputs": [],
   "source": [
    "iris = load_iris()\n",
    "X = iris['data']\n",
    "y = iris['target']\n",
    "names = iris['target_names']\n",
    "feature_names = iris['feature_names']\n",
    "enc = OneHotEncoder()\n",
    "Y = enc.fit_transform(y[:, np.newaxis]).toarray()\n",
    "scaler = StandardScaler()\n",
    "X_scaled = scaler.fit_transform(X)\n",
    "X_train, X_test, Y_train, Y_test = train_test_split(\n",
    "    X_scaled, Y, test_size=0.5, random_state=2)\n",
    "n_features = X.shape[1]\n",
    "n_classes = Y.shape[1]"
   ]
  },
  {
   "cell_type": "code",
   "execution_count": 5,
   "metadata": {},
   "outputs": [],
   "source": [
    "def create_custom_model(input_dim, output_dim, nodes, n=1, name='model'):\n",
    "    model = Sequential(name=name)\n",
    "    for i in range(n):\n",
    "        model.add(Dense(nodes, input_dim=input_dim, activation='relu'))\n",
    "    model.add(Dense(output_dim, activation='softmax'))\n",
    "    model.compile(loss='categorical_crossentropy',\n",
    "                  optimizer='adam',\n",
    "                  metrics=['accuracy'])\n",
    "    return model\n"
   ]
  },
  {
   "cell_type": "code",
   "execution_count": 6,
   "metadata": {},
   "outputs": [
    {
     "name": "stdout",
     "output_type": "stream",
     "text": [
      "Model: \"model\"\n",
      "_________________________________________________________________\n",
      " Layer (type)                Output Shape              Param #   \n",
      "=================================================================\n",
      " dense (Dense)               (None, 4)                 20        \n",
      "                                                                 \n",
      " dense_1 (Dense)             (None, 3)                 15        \n",
      "                                                                 \n",
      "=================================================================\n",
      "Total params: 35\n",
      "Trainable params: 35\n",
      "Non-trainable params: 0\n",
      "_________________________________________________________________\n",
      "Model name: model\n",
      "3/3 [==============================] - 0s 2ms/step - loss: 0.1235 - accuracy: 0.9467\n",
      "Test loss: 0.12348707765340805\n",
      "Test accuracy: 0.9466666579246521\n",
      "--- 16.798799991607666 seconds ---\n"
     ]
    }
   ],
   "source": [
    "n_layers = 1\n",
    "model = create_custom_model(n_features, n_classes,\n",
    "                            4, n_layers)\n",
    "model.summary()\n",
    "\n",
    "start_time = time.time()\n",
    "print('Model name:', model.name)\n",
    "history_callback = model.fit(X_train, Y_train,\n",
    "                             batch_size=5,\n",
    "                             epochs=400,\n",
    "                             verbose=0,\n",
    "                             validation_data=(X_test, Y_test)\n",
    "                             )\n",
    "score = model.evaluate(X_test, Y_test)\n",
    "print('Test loss:', score[0])\n",
    "print('Test accuracy:', score[1])\n",
    "print(\"--- %s seconds ---\" % (time.time() - start_time))"
   ]
  },
  {
   "cell_type": "code",
   "execution_count": 10,
   "metadata": {},
   "outputs": [],
   "source": [
    "def get_shape(model):\n",
    "    weights_layer = model.get_weights()\n",
    "    shapes = []\n",
    "    for weights in weights_layer:\n",
    "        shapes.append(weights.shape)\n",
    "    return shapes\n",
    "def set_shape(weights,shapes):\n",
    "    new_weights = []\n",
    "    index=0\n",
    "    for shape in shapes:\n",
    "        if(len(shape)>1):\n",
    "            n_nodes = np.prod(shape)+index\n",
    "        else:\n",
    "            n_nodes=shape[0]+index\n",
    "        tmp = np.array(weights[index:n_nodes]).reshape(shape)\n",
    "        new_weights.append(tmp)\n",
    "        index=n_nodes\n",
    "    return new_weights"
   ]
  },
  {
   "cell_type": "code",
   "execution_count": 9,
   "metadata": {},
   "outputs": [
    {
     "name": "stderr",
     "output_type": "stream",
     "text": [
      "2021-12-28 01:35:13,267 - pyswarms.single.global_best - INFO - Optimize for 20 iters with {'c1': 0.4, 'c2': 0.6, 'w': 0.4}\n",
      "pyswarms.single.global_best: 100%|██████████|20/20, best_cost=0.0133\n",
      "2021-12-28 01:36:02,424 - pyswarms.single.global_best - INFO - Optimization finished | best cost: 0.013333320617675781, best pos: [ 0.11273284 -0.44608439 -0.42068295  0.75235432  0.31250255  0.37742352\n",
      "  0.34469984  0.20821845  0.5365929  -0.09791934 -0.51470203  0.11139093\n",
      "  0.67417634 -0.10178379 -0.2683085   0.0365008   0.55132816  0.67694028\n",
      "  0.47503709  0.12789514 -0.09193214  0.22279358  0.78369814  0.40921187\n",
      "  0.4462695  -0.21505084  0.44101792 -0.07249371  0.08583225 -0.0394122\n",
      "  0.01298918 -0.40660378  0.01284558  0.39313813  0.05990736]\n"
     ]
    },
    {
     "name": "stdout",
     "output_type": "stream",
     "text": [
      "3/3 [==============================] - 0s 4ms/step - loss: 0.6957 - accuracy: 0.9600\n",
      "Test loss: 0.6957109570503235\n",
      "Test accuracy: 0.9599999785423279\n",
      "--- 49.24260330200195 seconds ---\n"
     ]
    }
   ],
   "source": [
    "start_time = time.time()\n",
    "def evaluate_nn(W, shape,X_train=X_train, Y_train=Y_train):\n",
    "    results = []\n",
    "    for weights in W:\n",
    "        model.set_weights(set_shape(weights,shape))\n",
    "        score = model.evaluate(X_train, Y_train, verbose=0)\n",
    "        results.append(1-score[1])\n",
    "    return results\n",
    "\n",
    "shape = get_shape(model)\n",
    "x_max = 1.0 * np.ones(35)\n",
    "x_min = -1.0 * x_max\n",
    "bounds = (x_min, x_max)\n",
    "options = {'c1': 0.4, 'c2': 0.6, 'w': 0.4}\n",
    "optimizer = GlobalBestPSO(n_particles=50, dimensions=35,\n",
    "                          options=options, bounds=bounds)\n",
    "cost, pos = optimizer.optimize(evaluate_nn, 20, X_train=X_train, Y_train=Y_train,shape=shape)\n",
    "model.set_weights(set_shape(pos,shape))\n",
    "score = model.evaluate(X_test, Y_test)\n",
    "print('Test loss:', score[0])\n",
    "print('Test accuracy:', score[1])\n",
    "print(\"--- %s seconds ---\" % (time.time() - start_time))"
   ]
  },
  {
   "cell_type": "code",
   "execution_count": 47,
   "metadata": {},
   "outputs": [
    {
     "name": "stderr",
     "output_type": "stream",
     "text": [
      "2021-12-27 18:03:22,946 - matplotlib.animation - WARNING - MovieWriter pillowwritter unavailable; using Pillow instead.\n",
      "2021-12-27 18:03:22,948 - matplotlib.animation - INFO - Animation.save using <class 'matplotlib.animation.PillowWriter'>\n"
     ]
    },
    {
     "data": {
      "text/html": [
       "<img src=\"pso.gif\"/>"
      ],
      "text/plain": [
       "<IPython.core.display.Image object>"
      ]
     },
     "execution_count": 47,
     "metadata": {},
     "output_type": "execute_result"
    }
   ],
   "source": [
    "m = Mesher(func=fx.sphere)\n",
    "pos_history = [pos[:, :2] for pos in optimizer.pos_history]\n",
    "pos3d = m.compute_history_3d(pos_history)\n",
    "# Assuming we already had an optimizer ready\n",
    "my_animator = Animator(repeat=False)\n",
    "my_designer = Designer(figsize=(6, 6))\n",
    "animation = plot_surface(pos3d, animator=my_animator, designer=my_designer)\n",
    "# %%\n",
    "animation.save('pso.gif', writer='pillowwritter', fps=6, )\n",
    "Image(url='pso.gif')"
   ]
  },
  {
   "cell_type": "code",
   "execution_count": 2,
   "metadata": {},
   "outputs": [],
   "source": [
    "from sklearn.model_selection import KFold"
   ]
  },
  {
   "cell_type": "code",
   "execution_count": 9,
   "metadata": {},
   "outputs": [
    {
     "name": "stdout",
     "output_type": "stream",
     "text": [
      "1/1 [==============================] - 0s 153ms/step - loss: 0.0824 - accuracy: 0.9667\n",
      "1/1 [==============================] - 0s 126ms/step - loss: 0.1050 - accuracy: 0.9333\n",
      "1/1 [==============================] - 0s 140ms/step - loss: 0.0730 - accuracy: 0.9667\n",
      "1/1 [==============================] - 0s 124ms/step - loss: 0.0223 - accuracy: 1.0000\n"
     ]
    },
    {
     "name": "stdout",
     "output_type": "stream",
     "text": [
      "1/1 [==============================] - 0s 133ms/step - loss: 0.1082 - accuracy: 0.9333\n"
     ]
    }
   ],
   "source": [
    "X = iris[\"data\"]\n",
    "y = iris[\"target\"]\n",
    "\n",
    "enc = OneHotEncoder()\n",
    "Y = enc.fit_transform(y[:, np.newaxis]).toarray()\n",
    "scaler = StandardScaler()\n",
    "X_scaled = scaler.fit_transform(X)\n",
    "\n",
    "inputs = X_scaled\n",
    "targets = Y\n",
    "\n",
    "num_folds = 5\n",
    "\n",
    "kfold = KFold(n_splits=num_folds, shuffle=True)\n",
    "\n",
    "fold_no = 1\n",
    "accs_bp = []\n",
    "\n",
    "x_max = 1.0 * np.ones(35)\n",
    "x_min = -1.0 * x_max\n",
    "bounds = (x_min, x_max)\n",
    "\n",
    "for train, test in kfold.split(inputs, targets):\n",
    "    model = create_custom_model(n_features, n_classes,\n",
    "                                4, 1)\n",
    "    shape = get_shape(model)\n",
    "    history_callback = model.fit(inputs[train], targets[train],\n",
    "                                batch_size=5,\n",
    "                                epochs=400,\n",
    "                                verbose=0,\n",
    "                                )\n",
    "    score = model.evaluate(inputs[test], targets[test])\n",
    "    fold_no += 1\n",
    "    accs_bp.append(score[1])\n",
    "    "
   ]
  },
  {
   "cell_type": "code",
   "execution_count": 97,
   "metadata": {},
   "outputs": [
    {
     "name": "stdout",
     "output_type": "stream",
     "text": [
      "1/1 [==============================] - 0s 25ms/step - loss: 0.8450 - accuracy: 0.9333\n",
      "1/1 [==============================] - 0s 25ms/step - loss: 0.7566 - accuracy: 0.8667\n",
      "1/1 [==============================] - 0s 24ms/step - loss: 0.7757 - accuracy: 0.9333\n",
      "1/1 [==============================] - 0s 28ms/step - loss: 0.7914 - accuracy: 0.9333\n",
      "1/1 [==============================] - 0s 24ms/step - loss: 0.7537 - accuracy: 0.8667\n"
     ]
    }
   ],
   "source": [
    "accs_pso=[]\n",
    "for train, test in kfold.split(inputs, targets):\n",
    "    options = {'c1': 0.4, 'c2': 0.4, 'w': 0.6}\n",
    "    optimizer = GlobalBestPSO(n_particles=25, dimensions=35,\n",
    "                            options=options, bounds=bounds)\n",
    "    cost, pos = optimizer.optimize(evaluate_nn, 20, X_train=inputs[train], Y_train=targets[train],shape=shape, verbose=0)\n",
    "    model.set_weights(set_shape(pos,shape))\n",
    "    score = model.evaluate(inputs[test], targets[test])\n",
    "    accs_pso.append(score[1])"
   ]
  },
  {
   "cell_type": "code",
   "execution_count": 25,
   "metadata": {},
   "outputs": [
    {
     "name": "stdout",
     "output_type": "stream",
     "text": [
      "Accuracy 0.96 +/- 0.02\n"
     ]
    }
   ],
   "source": [
    "accs_bp\n",
    "print(\"Accuracy {:.2f} +/- {:.2f}\".format(np.average(accs_bp),np.std(accs_bp)))"
   ]
  },
  {
   "cell_type": "code",
   "execution_count": 29,
   "metadata": {},
   "outputs": [
    {
     "name": "stdout",
     "output_type": "stream",
     "text": [
      "Accuracy 0.91 +/- 0.03\n"
     ]
    }
   ],
   "source": [
    "accs_pso\n",
    "print(\"Accuracy {:.2f} +/- {:.2f}\".format(np.average(accs_pso),np.std(accs_pso)))"
   ]
  }
 ],
 "metadata": {
  "interpreter": {
   "hash": "31f2aee4e71d21fbe5cf8b01ff0e069b9275f58929596ceb00d14d90e3e16cd6"
  },
  "kernelspec": {
   "display_name": "Python 3.8.10 64-bit",
   "language": "python",
   "name": "python3"
  },
  "language_info": {
   "codemirror_mode": {
    "name": "ipython",
    "version": 3
   },
   "file_extension": ".py",
   "mimetype": "text/x-python",
   "name": "python",
   "nbconvert_exporter": "python",
   "pygments_lexer": "ipython3",
   "version": "3.8.10"
  },
  "orig_nbformat": 4
 },
 "nbformat": 4,
 "nbformat_minor": 2
}
