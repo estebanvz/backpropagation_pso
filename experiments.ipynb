{
 "cells": [
  {
   "cell_type": "code",
   "execution_count": 29,
   "metadata": {},
   "outputs": [],
   "source": [
    "import time\n",
    "\n",
    "import numpy as np\n",
    "from IPython.display import Image\n",
    "from keras.callbacks import TensorBoard\n",
    "from keras.layers import Dense\n",
    "from keras.models import Sequential\n",
    "from pyswarms.single.global_best import GlobalBestPSO\n",
    "from pyswarms.utils.functions import single_obj as fx\n",
    "from pyswarms.utils.plotters import plot_surface\n",
    "from pyswarms.utils.plotters.formatters import Animator, Designer, Mesher\n",
    "from sklearn.datasets import load_iris\n",
    "from sklearn.model_selection import train_test_split\n",
    "from sklearn.preprocessing import OneHotEncoder, StandardScaler\n",
    "import warnings\n",
    "warnings.filterwarnings(\"ignore\")"
   ]
  },
  {
   "cell_type": "code",
   "execution_count": 2,
   "metadata": {},
   "outputs": [],
   "source": [
    "iris = load_iris()\n",
    "X = iris['data']\n",
    "y = iris['target']\n",
    "names = iris['target_names']\n",
    "feature_names = iris['feature_names']\n",
    "enc = OneHotEncoder()\n",
    "Y = enc.fit_transform(y[:, np.newaxis]).toarray()\n",
    "scaler = StandardScaler()\n",
    "X_scaled = scaler.fit_transform(X)\n",
    "X_train, X_test, Y_train, Y_test = train_test_split(\n",
    "    X_scaled, Y, test_size=0.5, random_state=2)\n",
    "n_features = X.shape[1]\n",
    "n_classes = Y.shape[1]"
   ]
  },
  {
   "cell_type": "code",
   "execution_count": 3,
   "metadata": {},
   "outputs": [],
   "source": [
    "def create_custom_model(input_dim, output_dim, nodes, n=1, name='model'):\n",
    "    model = Sequential(name=name)\n",
    "    for i in range(n):\n",
    "        model.add(Dense(nodes, input_dim=input_dim, activation='relu'))\n",
    "    model.add(Dense(output_dim, activation='softmax'))\n",
    "    model.compile(loss='categorical_crossentropy',\n",
    "                  optimizer='adam',\n",
    "                  metrics=['accuracy'])\n",
    "    return model\n"
   ]
  },
  {
   "cell_type": "code",
   "execution_count": 46,
   "metadata": {},
   "outputs": [
    {
     "name": "stdout",
     "output_type": "stream",
     "text": [
      "Model: \"model\"\n",
      "_________________________________________________________________\n",
      " Layer (type)                Output Shape              Param #   \n",
      "=================================================================\n",
      " dense_6 (Dense)             (None, 10)                50        \n",
      "                                                                 \n",
      " dense_7 (Dense)             (None, 3)                 33        \n",
      "                                                                 \n",
      "=================================================================\n",
      "Total params: 83\n",
      "Trainable params: 83\n",
      "Non-trainable params: 0\n",
      "_________________________________________________________________\n",
      "Model name: model\n",
      "3/3 [==============================] - 0s 3ms/step - loss: 0.2111 - accuracy: 0.9333\n",
      "Test loss: 0.2111494392156601\n",
      "Test accuracy: 0.9333333373069763\n",
      "--- 17.46715259552002 seconds ---\n"
     ]
    }
   ],
   "source": [
    "n_layers = 1\n",
    "model = create_custom_model(n_features, n_classes,\n",
    "                            10, n_layers)\n",
    "model.summary()\n",
    "\n",
    "start_time = time.time()\n",
    "print('Model name:', model.name)\n",
    "history_callback = model.fit(X_train, Y_train,\n",
    "                             batch_size=5,\n",
    "                             epochs=400,\n",
    "                             verbose=0,\n",
    "                             validation_data=(X_test, Y_test)\n",
    "                             )\n",
    "score = model.evaluate(X_test, Y_test)\n",
    "print('Test loss:', score[0])\n",
    "print('Test accuracy:', score[1])\n",
    "print(\"--- %s seconds ---\" % (time.time() - start_time))"
   ]
  },
  {
   "cell_type": "code",
   "execution_count": 5,
   "metadata": {},
   "outputs": [],
   "source": [
    "def get_shape(model):\n",
    "    weights_layer = model.get_weights()\n",
    "    shapes = []\n",
    "    for weights in weights_layer:\n",
    "        shapes.append(weights.shape)\n",
    "    return shapes\n",
    "def set_shape(weights,shapes):\n",
    "    new_weights = []\n",
    "    index=0\n",
    "    for shape in shapes:\n",
    "        if(len(shape)>1):\n",
    "            n_nodes = np.prod(shape)+index\n",
    "        else:\n",
    "            n_nodes=shape[0]+index\n",
    "        tmp = np.array(weights[index:n_nodes]).reshape(shape)\n",
    "        new_weights.append(tmp)\n",
    "        index=n_nodes\n",
    "    return new_weights"
   ]
  },
  {
   "cell_type": "code",
   "execution_count": 43,
   "metadata": {},
   "outputs": [
    {
     "name": "stderr",
     "output_type": "stream",
     "text": [
      "2021-12-27 15:00:42,770 - pyswarms.single.global_best - INFO - Optimize for 15 iters with {'c1': 0.4, 'c2': 0.8, 'w': 0.4}\n",
      "pyswarms.single.global_best: 100%|██████████|15/15, best_cost=0.0133\n",
      "2021-12-27 15:01:02,524 - pyswarms.single.global_best - INFO - Optimization finished | best cost: 0.013333320617675781, best pos: [ 0.27911979 -0.55757932  0.2766565   0.35975281  0.72009114  0.7119445\n",
      "  0.5776927   0.52077264  0.67504513 -0.49985279  0.15561242  0.49470757\n",
      "  0.07110754 -0.02335194 -0.13379514 -0.25769252  0.8009418  -0.09804629\n",
      " -0.348635    0.69365033  0.48507372 -0.46965597  0.28400862 -0.36275778\n",
      "  0.40690129  0.39743728  0.20008803  0.44225043  0.14224802  0.37116319\n",
      " -0.72829762 -0.07267608  0.63930366  0.29554009  0.39164875 -0.47153567\n",
      "  0.58262708  0.88472097  0.48328034  0.82359525  0.69474802  0.57502965\n",
      " -0.31953482 -0.16788879  0.3410064   0.67655062 -0.14132718  0.21596682\n",
      " -0.47949632  0.06507222  0.38206743  0.42513836  0.55036095  0.72995095\n",
      " -0.00268799 -0.22573595 -0.59954994 -0.11589021  0.26917711  0.19832152\n",
      "  0.32279789 -0.18612947 -0.56184357  0.48579297  0.31049338 -0.27212689\n",
      "  0.2621756  -0.20972623 -0.03790394  0.34582685  0.24009114  0.01905155\n",
      " -0.50147889  0.08106092  0.54838046  0.52252921  0.64339103 -0.63617195\n",
      "  0.52122359  0.4000399   0.33933303  0.70273747  0.47594656]\n"
     ]
    },
    {
     "name": "stdout",
     "output_type": "stream",
     "text": [
      "3/3 [==============================] - 0s 2ms/step - loss: 0.5631 - accuracy: 0.9467\n",
      "Test loss: 0.56305330991745\n",
      "Test accuracy: 0.9466666579246521\n",
      "--- 19.83688712120056 seconds ---\n"
     ]
    }
   ],
   "source": [
    "start_time = time.time()\n",
    "def evaluate_nn(W, shape,X_test=X_train, Y_test=Y_train):\n",
    "    result = []\n",
    "    for weights in W:\n",
    "        model.set_weights(set_shape(weights,shape))\n",
    "        score = model.evaluate(X_test, Y_test, verbose=0)\n",
    "        result.append(1-score[1])\n",
    "    return result\n",
    "\n",
    "shape = get_shape(model)\n",
    "x_max = 1.0 * np.ones(83)\n",
    "x_min = -1.0 * x_max\n",
    "bounds = (x_min, x_max)\n",
    "options = {'c1': 0.4, 'c2': 0.8, 'w': 0.4}\n",
    "optimizer = GlobalBestPSO(n_particles=25, dimensions=83,\n",
    "                          options=options, bounds=bounds)\n",
    "cost, pos = optimizer.optimize(evaluate_nn, 15, X_test=X_train, Y_test=Y_train,shape=shape)\n",
    "model.set_weights(set_shape(pos,shape))\n",
    "score = model.evaluate(X_test, Y_test)\n",
    "print('Test loss:', score[0])\n",
    "print('Test accuracy:', score[1])\n",
    "print(\"--- %s seconds ---\" % (time.time() - start_time))"
   ]
  },
  {
   "cell_type": "code",
   "execution_count": 40,
   "metadata": {},
   "outputs": [
    {
     "name": "stderr",
     "output_type": "stream",
     "text": [
      "2021-12-27 14:58:39,759 - matplotlib.animation - WARNING - MovieWriter pillowwritter unavailable; using Pillow instead.\n",
      "2021-12-27 14:58:39,760 - matplotlib.animation - INFO - Animation.save using <class 'matplotlib.animation.PillowWriter'>\n"
     ]
    },
    {
     "data": {
      "text/html": [
       "<img src=\"pso.gif\"/>"
      ],
      "text/plain": [
       "<IPython.core.display.Image object>"
      ]
     },
     "execution_count": 40,
     "metadata": {},
     "output_type": "execute_result"
    }
   ],
   "source": [
    "m = Mesher(func=fx.sphere)\n",
    "pos_history = [pos[:, :2] for pos in optimizer.pos_history]\n",
    "pos3d = m.compute_history_3d(pos_history)\n",
    "# Assuming we already had an optimizer ready\n",
    "my_animator = Animator(repeat=False)\n",
    "my_designer = Designer(figsize=(6, 6))\n",
    "animation = plot_surface(pos3d, animator=my_animator, designer=my_designer)\n",
    "# %%\n",
    "animation.save('pso.gif', writer='pillowwritter', fps=6, )\n",
    "Image(url='pso.gif')"
   ]
  },
  {
   "cell_type": "code",
   "execution_count": null,
   "metadata": {},
   "outputs": [],
   "source": []
  }
 ],
 "metadata": {
  "interpreter": {
   "hash": "31f2aee4e71d21fbe5cf8b01ff0e069b9275f58929596ceb00d14d90e3e16cd6"
  },
  "kernelspec": {
   "display_name": "Python 3.8.10 64-bit",
   "language": "python",
   "name": "python3"
  },
  "language_info": {
   "codemirror_mode": {
    "name": "ipython",
    "version": 3
   },
   "file_extension": ".py",
   "mimetype": "text/x-python",
   "name": "python",
   "nbconvert_exporter": "python",
   "pygments_lexer": "ipython3",
   "version": "3.8.10"
  },
  "orig_nbformat": 4
 },
 "nbformat": 4,
 "nbformat_minor": 2
}
